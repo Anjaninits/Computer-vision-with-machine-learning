{
  "metadata": {
    "kernelspec": {
      "language": "python",
      "display_name": "Python 3",
      "name": "python3"
    },
    "language_info": {
      "name": "python",
      "version": "3.7.10",
      "mimetype": "text/x-python",
      "codemirror_mode": {
        "name": "ipython",
        "version": 3
      },
      "pygments_lexer": "ipython3",
      "nbconvert_exporter": "python",
      "file_extension": ".py"
    },
    "colab": {
      "provenance": []
    }
  },
  "nbformat_minor": 0,
  "nbformat": 4,
  "cells": [
    {
      "cell_type": "markdown",
      "source": [
        "## Importing Libraries"
      ],
      "metadata": {
        "id": "6RQQwiaJdg8l"
      }
    },
    {
      "cell_type": "code",
      "source": [
        "# Pandas is used for data manipulation\n",
        "import pandas as pd\n",
        "\n",
        "# Use numpy to convert to arrays\n",
        "import numpy as np\n",
        "\n",
        "# Import tools needed for visualization\n",
        "from sklearn.tree import export_graphviz\n",
        "import pydot\n",
        "import matplotlib.pyplot as plt\n",
        "%matplotlib inline"
      ],
      "metadata": {
        "hideCode": false,
        "hidePrompt": false,
        "id": "d4a2uASN7jbm",
        "execution": {
          "iopub.status.busy": "2022-11-15T17:50:26.058462Z",
          "iopub.execute_input": "2022-11-15T17:50:26.058859Z",
          "iopub.status.idle": "2022-11-15T17:50:26.064808Z",
          "shell.execute_reply.started": "2022-11-15T17:50:26.058829Z",
          "shell.execute_reply": "2022-11-15T17:50:26.063942Z"
        },
        "trusted": true
      },
      "execution_count": 1,
      "outputs": []
    },
    {
      "cell_type": "markdown",
      "source": [
        "## Data Exploration"
      ],
      "metadata": {
        "execution": {
          "iopub.status.busy": "2021-06-05T03:15:54.658886Z",
          "iopub.execute_input": "2021-06-05T03:15:54.659441Z",
          "iopub.status.idle": "2021-06-05T03:15:54.679235Z",
          "shell.execute_reply.started": "2021-06-05T03:15:54.659396Z",
          "shell.execute_reply": "2021-06-05T03:15:54.677744Z"
        },
        "id": "lEDQ4r-Ldg8q"
      }
    },
    {
      "cell_type": "code",
      "source": [
        "# Reading the data to a dataframe \n",
        "df = pd.read_csv('../content/Frequency measurement_1.csv')"
      ],
      "metadata": {
        "execution": {
          "iopub.status.busy": "2022-11-15T17:50:35.523920Z",
          "iopub.execute_input": "2022-11-15T17:50:35.524299Z",
          "iopub.status.idle": "2022-11-15T17:50:35.543629Z",
          "shell.execute_reply.started": "2022-11-15T17:50:35.524250Z",
          "shell.execute_reply": "2022-11-15T17:50:35.542793Z"
        },
        "trusted": true,
        "id": "avvZ6iLrdg8q"
      },
      "execution_count": 2,
      "outputs": []
    },
    {
      "cell_type": "code",
      "source": [
        "# displaying first 5 rows\n",
        "df.head(5)"
      ],
      "metadata": {
        "execution": {
          "iopub.status.busy": "2022-11-15T17:50:40.279932Z",
          "iopub.execute_input": "2022-11-15T17:50:40.280653Z",
          "iopub.status.idle": "2022-11-15T17:50:40.306204Z",
          "shell.execute_reply.started": "2022-11-15T17:50:40.280607Z",
          "shell.execute_reply": "2022-11-15T17:50:40.305245Z"
        },
        "trusted": true,
        "colab": {
          "base_uri": "https://localhost:8080/",
          "height": 206
        },
        "id": "XPTc-2uadg8r",
        "outputId": "fb4eeae8-1d04-4560-fbdc-89640ec347a4"
      },
      "execution_count": 3,
      "outputs": [
        {
          "output_type": "execute_result",
          "data": {
            "text/plain": [
              "   a(cm)   h(cm)  permitivity     ratio  Measured_frequency\n",
              "0    6.8  0.0800         2.32  0.003392                 835\n",
              "1    6.8  0.1590         2.32  0.006692                 829\n",
              "2    6.8  0.3180         2.32  0.013159                 815\n",
              "3    5.0  0.1590         2.32  0.009106                1128\n",
              "4    3.8  0.1524         2.49  0.011567                1443"
            ],
            "text/html": [
              "\n",
              "  <div id=\"df-c5a5a30d-acab-4fc0-a322-c6a5f1b4afcf\">\n",
              "    <div class=\"colab-df-container\">\n",
              "      <div>\n",
              "<style scoped>\n",
              "    .dataframe tbody tr th:only-of-type {\n",
              "        vertical-align: middle;\n",
              "    }\n",
              "\n",
              "    .dataframe tbody tr th {\n",
              "        vertical-align: top;\n",
              "    }\n",
              "\n",
              "    .dataframe thead th {\n",
              "        text-align: right;\n",
              "    }\n",
              "</style>\n",
              "<table border=\"1\" class=\"dataframe\">\n",
              "  <thead>\n",
              "    <tr style=\"text-align: right;\">\n",
              "      <th></th>\n",
              "      <th>a(cm)</th>\n",
              "      <th>h(cm)</th>\n",
              "      <th>permitivity</th>\n",
              "      <th>ratio</th>\n",
              "      <th>Measured_frequency</th>\n",
              "    </tr>\n",
              "  </thead>\n",
              "  <tbody>\n",
              "    <tr>\n",
              "      <th>0</th>\n",
              "      <td>6.8</td>\n",
              "      <td>0.0800</td>\n",
              "      <td>2.32</td>\n",
              "      <td>0.003392</td>\n",
              "      <td>835</td>\n",
              "    </tr>\n",
              "    <tr>\n",
              "      <th>1</th>\n",
              "      <td>6.8</td>\n",
              "      <td>0.1590</td>\n",
              "      <td>2.32</td>\n",
              "      <td>0.006692</td>\n",
              "      <td>829</td>\n",
              "    </tr>\n",
              "    <tr>\n",
              "      <th>2</th>\n",
              "      <td>6.8</td>\n",
              "      <td>0.3180</td>\n",
              "      <td>2.32</td>\n",
              "      <td>0.013159</td>\n",
              "      <td>815</td>\n",
              "    </tr>\n",
              "    <tr>\n",
              "      <th>3</th>\n",
              "      <td>5.0</td>\n",
              "      <td>0.1590</td>\n",
              "      <td>2.32</td>\n",
              "      <td>0.009106</td>\n",
              "      <td>1128</td>\n",
              "    </tr>\n",
              "    <tr>\n",
              "      <th>4</th>\n",
              "      <td>3.8</td>\n",
              "      <td>0.1524</td>\n",
              "      <td>2.49</td>\n",
              "      <td>0.011567</td>\n",
              "      <td>1443</td>\n",
              "    </tr>\n",
              "  </tbody>\n",
              "</table>\n",
              "</div>\n",
              "      <button class=\"colab-df-convert\" onclick=\"convertToInteractive('df-c5a5a30d-acab-4fc0-a322-c6a5f1b4afcf')\"\n",
              "              title=\"Convert this dataframe to an interactive table.\"\n",
              "              style=\"display:none;\">\n",
              "        \n",
              "  <svg xmlns=\"http://www.w3.org/2000/svg\" height=\"24px\"viewBox=\"0 0 24 24\"\n",
              "       width=\"24px\">\n",
              "    <path d=\"M0 0h24v24H0V0z\" fill=\"none\"/>\n",
              "    <path d=\"M18.56 5.44l.94 2.06.94-2.06 2.06-.94-2.06-.94-.94-2.06-.94 2.06-2.06.94zm-11 1L8.5 8.5l.94-2.06 2.06-.94-2.06-.94L8.5 2.5l-.94 2.06-2.06.94zm10 10l.94 2.06.94-2.06 2.06-.94-2.06-.94-.94-2.06-.94 2.06-2.06.94z\"/><path d=\"M17.41 7.96l-1.37-1.37c-.4-.4-.92-.59-1.43-.59-.52 0-1.04.2-1.43.59L10.3 9.45l-7.72 7.72c-.78.78-.78 2.05 0 2.83L4 21.41c.39.39.9.59 1.41.59.51 0 1.02-.2 1.41-.59l7.78-7.78 2.81-2.81c.8-.78.8-2.07 0-2.86zM5.41 20L4 18.59l7.72-7.72 1.47 1.35L5.41 20z\"/>\n",
              "  </svg>\n",
              "      </button>\n",
              "      \n",
              "  <style>\n",
              "    .colab-df-container {\n",
              "      display:flex;\n",
              "      flex-wrap:wrap;\n",
              "      gap: 12px;\n",
              "    }\n",
              "\n",
              "    .colab-df-convert {\n",
              "      background-color: #E8F0FE;\n",
              "      border: none;\n",
              "      border-radius: 50%;\n",
              "      cursor: pointer;\n",
              "      display: none;\n",
              "      fill: #1967D2;\n",
              "      height: 32px;\n",
              "      padding: 0 0 0 0;\n",
              "      width: 32px;\n",
              "    }\n",
              "\n",
              "    .colab-df-convert:hover {\n",
              "      background-color: #E2EBFA;\n",
              "      box-shadow: 0px 1px 2px rgba(60, 64, 67, 0.3), 0px 1px 3px 1px rgba(60, 64, 67, 0.15);\n",
              "      fill: #174EA6;\n",
              "    }\n",
              "\n",
              "    [theme=dark] .colab-df-convert {\n",
              "      background-color: #3B4455;\n",
              "      fill: #D2E3FC;\n",
              "    }\n",
              "\n",
              "    [theme=dark] .colab-df-convert:hover {\n",
              "      background-color: #434B5C;\n",
              "      box-shadow: 0px 1px 3px 1px rgba(0, 0, 0, 0.15);\n",
              "      filter: drop-shadow(0px 1px 2px rgba(0, 0, 0, 0.3));\n",
              "      fill: #FFFFFF;\n",
              "    }\n",
              "  </style>\n",
              "\n",
              "      <script>\n",
              "        const buttonEl =\n",
              "          document.querySelector('#df-c5a5a30d-acab-4fc0-a322-c6a5f1b4afcf button.colab-df-convert');\n",
              "        buttonEl.style.display =\n",
              "          google.colab.kernel.accessAllowed ? 'block' : 'none';\n",
              "\n",
              "        async function convertToInteractive(key) {\n",
              "          const element = document.querySelector('#df-c5a5a30d-acab-4fc0-a322-c6a5f1b4afcf');\n",
              "          const dataTable =\n",
              "            await google.colab.kernel.invokeFunction('convertToInteractive',\n",
              "                                                     [key], {});\n",
              "          if (!dataTable) return;\n",
              "\n",
              "          const docLinkHtml = 'Like what you see? Visit the ' +\n",
              "            '<a target=\"_blank\" href=https://colab.research.google.com/notebooks/data_table.ipynb>data table notebook</a>'\n",
              "            + ' to learn more about interactive tables.';\n",
              "          element.innerHTML = '';\n",
              "          dataTable['output_type'] = 'display_data';\n",
              "          await google.colab.output.renderOutput(dataTable, element);\n",
              "          const docLink = document.createElement('div');\n",
              "          docLink.innerHTML = docLinkHtml;\n",
              "          element.appendChild(docLink);\n",
              "        }\n",
              "      </script>\n",
              "    </div>\n",
              "  </div>\n",
              "  "
            ]
          },
          "metadata": {},
          "execution_count": 3
        }
      ]
    },
    {
      "cell_type": "code",
      "source": [
        "# the shape of our features\n",
        "df.shape"
      ],
      "metadata": {
        "hideCode": false,
        "hidePrompt": false,
        "id": "5aXM1w987jbq",
        "outputId": "8153fd67-b161-475f-bf93-eccee1e64391",
        "execution": {
          "iopub.status.busy": "2022-11-15T17:50:54.516401Z",
          "iopub.execute_input": "2022-11-15T17:50:54.516839Z",
          "iopub.status.idle": "2022-11-15T17:50:54.521847Z",
          "shell.execute_reply.started": "2022-11-15T17:50:54.516799Z",
          "shell.execute_reply": "2022-11-15T17:50:54.520881Z"
        },
        "trusted": true,
        "colab": {
          "base_uri": "https://localhost:8080/"
        }
      },
      "execution_count": 4,
      "outputs": [
        {
          "output_type": "execute_result",
          "data": {
            "text/plain": [
              "(20, 5)"
            ]
          },
          "metadata": {},
          "execution_count": 4
        }
      ]
    },
    {
      "cell_type": "code",
      "source": [
        "# column names\n",
        "df.columns"
      ],
      "metadata": {
        "execution": {
          "iopub.status.busy": "2022-11-15T17:51:01.283320Z",
          "iopub.execute_input": "2022-11-15T17:51:01.283833Z",
          "iopub.status.idle": "2022-11-15T17:51:01.290866Z",
          "shell.execute_reply.started": "2022-11-15T17:51:01.283783Z",
          "shell.execute_reply": "2022-11-15T17:51:01.289760Z"
        },
        "trusted": true,
        "colab": {
          "base_uri": "https://localhost:8080/"
        },
        "id": "rFCuTUOKdg8s",
        "outputId": "575706a3-6abe-4276-8483-9b1e6a094718"
      },
      "execution_count": 5,
      "outputs": [
        {
          "output_type": "execute_result",
          "data": {
            "text/plain": [
              "Index(['a(cm)', 'h(cm)', 'permitivity', 'ratio', 'Measured_frequency'], dtype='object')"
            ]
          },
          "metadata": {},
          "execution_count": 5
        }
      ]
    },
    {
      "cell_type": "code",
      "source": [
        "# checking for null values\n",
        "df.isnull().sum()"
      ],
      "metadata": {
        "execution": {
          "iopub.status.busy": "2022-11-15T17:51:10.094846Z",
          "iopub.execute_input": "2022-11-15T17:51:10.095196Z",
          "iopub.status.idle": "2022-11-15T17:51:10.104762Z",
          "shell.execute_reply.started": "2022-11-15T17:51:10.095164Z",
          "shell.execute_reply": "2022-11-15T17:51:10.103770Z"
        },
        "trusted": true,
        "colab": {
          "base_uri": "https://localhost:8080/"
        },
        "id": "2Jllj4lidg8s",
        "outputId": "747e9f64-8c3f-4be3-ff2c-e6bf36041623"
      },
      "execution_count": 6,
      "outputs": [
        {
          "output_type": "execute_result",
          "data": {
            "text/plain": [
              "a(cm)                 0\n",
              "h(cm)                 0\n",
              "permitivity           0\n",
              "ratio                 0\n",
              "Measured_frequency    0\n",
              "dtype: int64"
            ]
          },
          "metadata": {},
          "execution_count": 6
        }
      ]
    },
    {
      "cell_type": "markdown",
      "source": [
        "There are no null values"
      ],
      "metadata": {
        "id": "2cA9g2WDdg8v"
      }
    },
    {
      "cell_type": "markdown",
      "source": [
        "## One-Hot Encoding"
      ],
      "metadata": {
        "id": "Nzu0v5mQ7jbs"
      }
    },
    {
      "cell_type": "markdown",
      "source": [
        "A one hot encoding allows the representation of categorical data to be more expressive. "
      ],
      "metadata": {
        "execution": {
          "iopub.status.busy": "2021-06-05T03:26:04.245896Z",
          "iopub.execute_input": "2021-06-05T03:26:04.246284Z",
          "iopub.status.idle": "2021-06-05T03:26:04.252279Z",
          "shell.execute_reply.started": "2021-06-05T03:26:04.246247Z",
          "shell.execute_reply": "2021-06-05T03:26:04.250937Z"
        },
        "id": "cGCUihoCdg8v"
      }
    },
    {
      "cell_type": "code",
      "source": [
        "# One-hot encode categorical features\n",
        "df = pd.get_dummies(df)\n",
        "df.head(5)"
      ],
      "metadata": {
        "hideCode": false,
        "hidePrompt": false,
        "id": "VURjcTE27jbu",
        "outputId": "c68b58fc-1e2c-4e4f-f4a2-33ed1f303a5b",
        "execution": {
          "iopub.status.busy": "2022-11-15T17:51:28.112807Z",
          "iopub.execute_input": "2022-11-15T17:51:28.113393Z",
          "iopub.status.idle": "2022-11-15T17:51:28.140008Z",
          "shell.execute_reply.started": "2022-11-15T17:51:28.113343Z",
          "shell.execute_reply": "2022-11-15T17:51:28.138885Z"
        },
        "trusted": true,
        "colab": {
          "base_uri": "https://localhost:8080/",
          "height": 206
        }
      },
      "execution_count": 18,
      "outputs": [
        {
          "output_type": "execute_result",
          "data": {
            "text/plain": [
              "   a(cm)   h(cm)  permitivity     ratio\n",
              "0    6.8  0.0800         2.32  0.003392\n",
              "1    6.8  0.1590         2.32  0.006692\n",
              "2    6.8  0.3180         2.32  0.013159\n",
              "3    5.0  0.1590         2.32  0.009106\n",
              "4    3.8  0.1524         2.49  0.011567"
            ],
            "text/html": [
              "\n",
              "  <div id=\"df-42a3efa6-01d5-4a04-9984-3f230753d71b\">\n",
              "    <div class=\"colab-df-container\">\n",
              "      <div>\n",
              "<style scoped>\n",
              "    .dataframe tbody tr th:only-of-type {\n",
              "        vertical-align: middle;\n",
              "    }\n",
              "\n",
              "    .dataframe tbody tr th {\n",
              "        vertical-align: top;\n",
              "    }\n",
              "\n",
              "    .dataframe thead th {\n",
              "        text-align: right;\n",
              "    }\n",
              "</style>\n",
              "<table border=\"1\" class=\"dataframe\">\n",
              "  <thead>\n",
              "    <tr style=\"text-align: right;\">\n",
              "      <th></th>\n",
              "      <th>a(cm)</th>\n",
              "      <th>h(cm)</th>\n",
              "      <th>permitivity</th>\n",
              "      <th>ratio</th>\n",
              "    </tr>\n",
              "  </thead>\n",
              "  <tbody>\n",
              "    <tr>\n",
              "      <th>0</th>\n",
              "      <td>6.8</td>\n",
              "      <td>0.0800</td>\n",
              "      <td>2.32</td>\n",
              "      <td>0.003392</td>\n",
              "    </tr>\n",
              "    <tr>\n",
              "      <th>1</th>\n",
              "      <td>6.8</td>\n",
              "      <td>0.1590</td>\n",
              "      <td>2.32</td>\n",
              "      <td>0.006692</td>\n",
              "    </tr>\n",
              "    <tr>\n",
              "      <th>2</th>\n",
              "      <td>6.8</td>\n",
              "      <td>0.3180</td>\n",
              "      <td>2.32</td>\n",
              "      <td>0.013159</td>\n",
              "    </tr>\n",
              "    <tr>\n",
              "      <th>3</th>\n",
              "      <td>5.0</td>\n",
              "      <td>0.1590</td>\n",
              "      <td>2.32</td>\n",
              "      <td>0.009106</td>\n",
              "    </tr>\n",
              "    <tr>\n",
              "      <th>4</th>\n",
              "      <td>3.8</td>\n",
              "      <td>0.1524</td>\n",
              "      <td>2.49</td>\n",
              "      <td>0.011567</td>\n",
              "    </tr>\n",
              "  </tbody>\n",
              "</table>\n",
              "</div>\n",
              "      <button class=\"colab-df-convert\" onclick=\"convertToInteractive('df-42a3efa6-01d5-4a04-9984-3f230753d71b')\"\n",
              "              title=\"Convert this dataframe to an interactive table.\"\n",
              "              style=\"display:none;\">\n",
              "        \n",
              "  <svg xmlns=\"http://www.w3.org/2000/svg\" height=\"24px\"viewBox=\"0 0 24 24\"\n",
              "       width=\"24px\">\n",
              "    <path d=\"M0 0h24v24H0V0z\" fill=\"none\"/>\n",
              "    <path d=\"M18.56 5.44l.94 2.06.94-2.06 2.06-.94-2.06-.94-.94-2.06-.94 2.06-2.06.94zm-11 1L8.5 8.5l.94-2.06 2.06-.94-2.06-.94L8.5 2.5l-.94 2.06-2.06.94zm10 10l.94 2.06.94-2.06 2.06-.94-2.06-.94-.94-2.06-.94 2.06-2.06.94z\"/><path d=\"M17.41 7.96l-1.37-1.37c-.4-.4-.92-.59-1.43-.59-.52 0-1.04.2-1.43.59L10.3 9.45l-7.72 7.72c-.78.78-.78 2.05 0 2.83L4 21.41c.39.39.9.59 1.41.59.51 0 1.02-.2 1.41-.59l7.78-7.78 2.81-2.81c.8-.78.8-2.07 0-2.86zM5.41 20L4 18.59l7.72-7.72 1.47 1.35L5.41 20z\"/>\n",
              "  </svg>\n",
              "      </button>\n",
              "      \n",
              "  <style>\n",
              "    .colab-df-container {\n",
              "      display:flex;\n",
              "      flex-wrap:wrap;\n",
              "      gap: 12px;\n",
              "    }\n",
              "\n",
              "    .colab-df-convert {\n",
              "      background-color: #E8F0FE;\n",
              "      border: none;\n",
              "      border-radius: 50%;\n",
              "      cursor: pointer;\n",
              "      display: none;\n",
              "      fill: #1967D2;\n",
              "      height: 32px;\n",
              "      padding: 0 0 0 0;\n",
              "      width: 32px;\n",
              "    }\n",
              "\n",
              "    .colab-df-convert:hover {\n",
              "      background-color: #E2EBFA;\n",
              "      box-shadow: 0px 1px 2px rgba(60, 64, 67, 0.3), 0px 1px 3px 1px rgba(60, 64, 67, 0.15);\n",
              "      fill: #174EA6;\n",
              "    }\n",
              "\n",
              "    [theme=dark] .colab-df-convert {\n",
              "      background-color: #3B4455;\n",
              "      fill: #D2E3FC;\n",
              "    }\n",
              "\n",
              "    [theme=dark] .colab-df-convert:hover {\n",
              "      background-color: #434B5C;\n",
              "      box-shadow: 0px 1px 3px 1px rgba(0, 0, 0, 0.15);\n",
              "      filter: drop-shadow(0px 1px 2px rgba(0, 0, 0, 0.3));\n",
              "      fill: #FFFFFF;\n",
              "    }\n",
              "  </style>\n",
              "\n",
              "      <script>\n",
              "        const buttonEl =\n",
              "          document.querySelector('#df-42a3efa6-01d5-4a04-9984-3f230753d71b button.colab-df-convert');\n",
              "        buttonEl.style.display =\n",
              "          google.colab.kernel.accessAllowed ? 'block' : 'none';\n",
              "\n",
              "        async function convertToInteractive(key) {\n",
              "          const element = document.querySelector('#df-42a3efa6-01d5-4a04-9984-3f230753d71b');\n",
              "          const dataTable =\n",
              "            await google.colab.kernel.invokeFunction('convertToInteractive',\n",
              "                                                     [key], {});\n",
              "          if (!dataTable) return;\n",
              "\n",
              "          const docLinkHtml = 'Like what you see? Visit the ' +\n",
              "            '<a target=\"_blank\" href=https://colab.research.google.com/notebooks/data_table.ipynb>data table notebook</a>'\n",
              "            + ' to learn more about interactive tables.';\n",
              "          element.innerHTML = '';\n",
              "          dataTable['output_type'] = 'display_data';\n",
              "          await google.colab.output.renderOutput(dataTable, element);\n",
              "          const docLink = document.createElement('div');\n",
              "          docLink.innerHTML = docLinkHtml;\n",
              "          element.appendChild(docLink);\n",
              "        }\n",
              "      </script>\n",
              "    </div>\n",
              "  </div>\n",
              "  "
            ]
          },
          "metadata": {},
          "execution_count": 18
        }
      ]
    },
    {
      "cell_type": "code",
      "source": [
        "print('Shape of features after one-hot encoding:', df.shape)"
      ],
      "metadata": {
        "id": "zgYBtUrr7jbv",
        "outputId": "b8de3895-1798-4fc8-fe96-51c5a2299352",
        "execution": {
          "iopub.status.busy": "2022-11-15T17:51:36.998378Z",
          "iopub.execute_input": "2022-11-15T17:51:36.998756Z",
          "iopub.status.idle": "2022-11-15T17:51:37.004450Z",
          "shell.execute_reply.started": "2022-11-15T17:51:36.998719Z",
          "shell.execute_reply": "2022-11-15T17:51:37.003516Z"
        },
        "trusted": true,
        "colab": {
          "base_uri": "https://localhost:8080/"
        }
      },
      "execution_count": 8,
      "outputs": [
        {
          "output_type": "stream",
          "name": "stdout",
          "text": [
            "Shape of features after one-hot encoding: (20, 5)\n"
          ]
        }
      ]
    },
    {
      "cell_type": "markdown",
      "source": [
        "## Features and Labels"
      ],
      "metadata": {
        "id": "mtd7DqrQ7jbw"
      }
    },
    {
      "cell_type": "code",
      "source": [
        "# Labels are the values we want to predict\n",
        "labels = df['Measured_frequency']\n",
        "\n",
        "# Remove the labels from the features\n",
        "df = df.drop('Measured_frequency', axis = 1)\n",
        "\n",
        "# Saving feature names for later use\n",
        "feature_list = list(df.columns)"
      ],
      "metadata": {
        "id": "2rYCVrfV7jbx",
        "execution": {
          "iopub.status.busy": "2022-11-15T17:51:55.946584Z",
          "iopub.execute_input": "2022-11-15T17:51:55.947145Z",
          "iopub.status.idle": "2022-11-15T17:51:55.996354Z",
          "shell.execute_reply.started": "2022-11-15T17:51:55.947109Z",
          "shell.execute_reply": "2022-11-15T17:51:55.994757Z"
        },
        "trusted": true
      },
      "execution_count": 9,
      "outputs": []
    },
    {
      "cell_type": "markdown",
      "source": [
        "## Train Test Split"
      ],
      "metadata": {
        "id": "Q6SSjx5p7jb0"
      }
    },
    {
      "cell_type": "code",
      "source": [
        "# Using Skicit-learn to split data into training and testing sets\n",
        "from sklearn.model_selection import train_test_split\n",
        "\n",
        "# Split the data into training and testing sets\n",
        "train_features, test_features, train_labels, test_labels = train_test_split(df,\n",
        "                                                                            labels,\n",
        "                                                                            test_size = 0.20,\n",
        "                                                                            random_state = 42)"
      ],
      "metadata": {
        "id": "11BJUq0s7jb0",
        "execution": {
          "iopub.status.busy": "2022-11-15T17:53:01.148008Z",
          "iopub.execute_input": "2022-11-15T17:53:01.148643Z",
          "iopub.status.idle": "2022-11-15T17:53:01.156959Z",
          "shell.execute_reply.started": "2022-11-15T17:53:01.148566Z",
          "shell.execute_reply": "2022-11-15T17:53:01.155893Z"
        },
        "trusted": true
      },
      "execution_count": 10,
      "outputs": []
    },
    {
      "cell_type": "code",
      "source": [
        "print('Training Features Shape:', train_features.shape)\n",
        "print('Training Labels Shape:', train_labels.shape)\n",
        "print('Testing Features Shape:', test_features.shape)\n",
        "print('Testing Labels Shape:', test_labels.shape)"
      ],
      "metadata": {
        "id": "KkVnZf4H7jb2",
        "outputId": "c0e7d5c2-493a-4586-f8e0-6a96d238dde5",
        "execution": {
          "iopub.status.busy": "2022-11-15T17:53:05.564541Z",
          "iopub.execute_input": "2022-11-15T17:53:05.564908Z",
          "iopub.status.idle": "2022-11-15T17:53:05.571863Z",
          "shell.execute_reply.started": "2022-11-15T17:53:05.564877Z",
          "shell.execute_reply": "2022-11-15T17:53:05.570751Z"
        },
        "trusted": true,
        "colab": {
          "base_uri": "https://localhost:8080/"
        }
      },
      "execution_count": 11,
      "outputs": [
        {
          "output_type": "stream",
          "name": "stdout",
          "text": [
            "Training Features Shape: (16, 4)\n",
            "Training Labels Shape: (16,)\n",
            "Testing Features Shape: (4, 4)\n",
            "Testing Labels Shape: (4,)\n"
          ]
        }
      ]
    },
    {
      "cell_type": "markdown",
      "source": [
        "## Training the Forest"
      ],
      "metadata": {
        "id": "ny3qdq-i7jb4"
      }
    },
    {
      "cell_type": "code",
      "source": [
        "# Import the model we are using\n",
        "from sklearn.ensemble import RandomForestRegressor\n",
        "\n",
        "# Instantiate model \n",
        "rf = RandomForestRegressor(n_estimators= 1000, random_state=42)\n",
        "\n",
        "# Train the model on training data\n",
        "rf.fit(train_features, train_labels);"
      ],
      "metadata": {
        "hideCode": false,
        "hidePrompt": false,
        "id": "d_Vboxs77jb5",
        "execution": {
          "iopub.status.busy": "2022-11-15T17:53:16.183880Z",
          "iopub.execute_input": "2022-11-15T17:53:16.184294Z",
          "iopub.status.idle": "2022-11-15T17:53:18.232741Z",
          "shell.execute_reply.started": "2022-11-15T17:53:16.184231Z",
          "shell.execute_reply": "2022-11-15T17:53:18.231847Z"
        },
        "trusted": true
      },
      "execution_count": 12,
      "outputs": []
    },
    {
      "cell_type": "markdown",
      "source": [
        "## Make Predictions on Test Data"
      ],
      "metadata": {
        "id": "rJz8X7b77jb6"
      }
    },
    {
      "cell_type": "code",
      "source": [
        "# Use the forest's predict method on the test data\n",
        "predictions = rf.predict(test_features)\n",
        "\n",
        "# Calculate the absolute errors\n",
        "errors = abs(predictions - test_labels)\n",
        "\n",
        "# Print out the mean absolute error (mae)\n",
        "print('Mean Absolute Error:', round(np.mean(errors), 2), 'Hz')\n"
      ],
      "metadata": {
        "id": "pssgaBC67jb6",
        "outputId": "4643eaa5-7d1f-414c-be35-c33e8f2603ec",
        "execution": {
          "iopub.status.busy": "2022-11-15T17:53:27.609193Z",
          "iopub.execute_input": "2022-11-15T17:53:27.609571Z",
          "iopub.status.idle": "2022-11-15T17:53:27.725225Z",
          "shell.execute_reply.started": "2022-11-15T17:53:27.609540Z",
          "shell.execute_reply": "2022-11-15T17:53:27.724546Z"
        },
        "trusted": true,
        "colab": {
          "base_uri": "https://localhost:8080/"
        }
      },
      "execution_count": 14,
      "outputs": [
        {
          "output_type": "stream",
          "name": "stdout",
          "text": [
            "Mean Absolute Error: 280.04 Hz\n"
          ]
        }
      ]
    },
    {
      "cell_type": "code",
      "source": [
        "# Calculate mean absolute percentage error (MAPE)\n",
        "mape = 100 * (errors / test_labels)\n",
        "\n",
        "# Calculate and display accuracy\n",
        "accuracy = 100 - np.mean(mape)\n",
        "print('Accuracy:', round(accuracy, 2), '%.')"
      ],
      "metadata": {
        "id": "fDaM3Z677jb7",
        "outputId": "ddaef636-9ac9-49a7-8ee7-3af5758445cc",
        "execution": {
          "iopub.status.busy": "2022-11-15T17:53:36.369207Z",
          "iopub.execute_input": "2022-11-15T17:53:36.369941Z",
          "iopub.status.idle": "2022-11-15T17:53:36.376628Z",
          "shell.execute_reply.started": "2022-11-15T17:53:36.369898Z",
          "shell.execute_reply": "2022-11-15T17:53:36.375566Z"
        },
        "trusted": true,
        "colab": {
          "base_uri": "https://localhost:8080/"
        }
      },
      "execution_count": 15,
      "outputs": [
        {
          "output_type": "stream",
          "name": "stdout",
          "text": [
            "Accuracy: 85.18 %.\n"
          ]
        }
      ]
    },
    {
      "cell_type": "markdown",
      "source": [
        "## Visualizing a Single Decision Tree"
      ],
      "metadata": {
        "id": "9U2KQYmS7jb7"
      }
    },
    {
      "cell_type": "code",
      "source": [
        "# Pull out one tree from the forest\n",
        "tree = rf.estimators_[5]\n",
        "\n",
        "# Export the image to a dot file\n",
        "export_graphviz(tree, out_file = 'tree.dot', feature_names = feature_list, rounded = True, precision = 1)\n",
        "\n",
        "# Use dot file to create a graph\n",
        "(graph, ) = pydot.graph_from_dot_file('tree.dot')\n",
        "\n",
        "# Write graph to a png file\n",
        "graph.write_png('tree.png'); "
      ],
      "metadata": {
        "id": "6F3GBZlc7jb8",
        "execution": {
          "iopub.status.busy": "2022-11-15T17:53:45.852006Z",
          "iopub.execute_input": "2022-11-15T17:53:45.852378Z",
          "iopub.status.idle": "2022-11-15T17:53:49.454347Z",
          "shell.execute_reply.started": "2022-11-15T17:53:45.852344Z",
          "shell.execute_reply": "2022-11-15T17:53:49.452960Z"
        },
        "trusted": true
      },
      "execution_count": 16,
      "outputs": []
    },
    {
      "cell_type": "markdown",
      "source": [
        "![Decision Tree](tree.png)"
      ],
      "metadata": {
        "id": "Cnbb-pTt7jb9"
      }
    },
    {
      "cell_type": "code",
      "source": [
        "print('The depth of this tree is:', tree.tree_.max_depth)"
      ],
      "metadata": {
        "id": "Bg51DdPk7jb9",
        "outputId": "72d2e129-cc10-4a08-af7d-65ca2097ceb9",
        "execution": {
          "iopub.status.busy": "2022-11-15T17:53:57.737877Z",
          "iopub.execute_input": "2022-11-15T17:53:57.738565Z",
          "iopub.status.idle": "2022-11-15T17:53:57.745831Z",
          "shell.execute_reply.started": "2022-11-15T17:53:57.738507Z",
          "shell.execute_reply": "2022-11-15T17:53:57.745002Z"
        },
        "trusted": true,
        "colab": {
          "base_uri": "https://localhost:8080/"
        }
      },
      "execution_count": 17,
      "outputs": [
        {
          "output_type": "stream",
          "name": "stdout",
          "text": [
            "The depth of this tree is: 5\n"
          ]
        }
      ]
    },
    {
      "cell_type": "markdown",
      "source": [
        "Smaller tree for visualization."
      ],
      "metadata": {
        "id": "bBwGCAgk7jb-"
      }
    },
    {
      "cell_type": "markdown",
      "source": [
        "![Small Decision Tree](small_tree.PNG)"
      ],
      "metadata": {
        "id": "QDBqLS4D7jb_"
      }
    },
    {
      "cell_type": "markdown",
      "source": [
        "If you find the notebook useful, please consider **upvoting**<p>\n",
        "**Thank you !**"
      ],
      "metadata": {
        "id": "DoMCZt8Odg82"
      }
    }
  ]
}